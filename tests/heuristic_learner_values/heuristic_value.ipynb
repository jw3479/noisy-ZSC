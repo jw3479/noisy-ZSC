{
 "cells": [
  {
   "cell_type": "code",
   "execution_count": 7,
   "metadata": {},
   "outputs": [],
   "source": [
    "# test theoretical value for different \n",
    "# sigmaA sigmaB levels\n",
    "\n",
    "from noisy_zsc.game import NoisyBailLeverGame\n",
    "from noisy_zsc.heuristic_learner import ArgmaxAgent, Argmaxof2Agent, StubbornAgent, argmax_of_2\n",
    "import numpy as np\n",
    "import matplotlib.pyplot as plt\n",
    "from copy import deepcopy\n",
    "import random\n",
    "from collections import deque\n",
    "import pandas as pd\n",
    "import csv\n",
    "import seaborn as sns"
   ]
  },
  {
   "cell_type": "code",
   "execution_count": 5,
   "metadata": {},
   "outputs": [],
   "source": [
    "# function: given sigma, sigma1, sigma2\n",
    "# output value of argmax\n",
    "# out of 1 million simulations\n",
    "\n",
    "mean_payoffs = [5., 5., 5.]\n",
    "bail_payoff = 5 # this can change\n",
    "\n",
    "def argmax_score(payoffs1, payoffs2, true_payoff):\n",
    "    \n",
    "    payoffs1 = list(payoffs1)\n",
    "    payoffs2 = list(payoffs2)\n",
    "\n",
    "    action1 = np.argmax(payoffs1)\n",
    "    action2 = np.argmax(payoffs2)\n",
    "    if action1 == action2:\n",
    "        return true_payoff[action1]\n",
    "    else:\n",
    "        return 0\n",
    "\n",
    "\n",
    "def argmax_val(sigma, sigma1, sigma2, bail_payoff = bail_payoff, runs = 10000):\n",
    "    val_list = []\n",
    "\n",
    "    for i in range(runs):\n",
    "        # init a run\n",
    "        env = NoisyBailLeverGame(mean_payoffs, bail_payoff, sigma, sigma1, sigma2, episode_length=1)\n",
    "        score = argmax_score(env.payoffs1, env.payoffs2, env.true_payoffs)\n",
    "        val_list.append(score) \n",
    "    \n",
    "    val = np.mean(val_list)\n",
    "    return val\n",
    "\n"
   ]
  },
  {
   "cell_type": "code",
   "execution_count": 6,
   "metadata": {},
   "outputs": [
    {
     "ename": "KeyboardInterrupt",
     "evalue": "",
     "output_type": "error",
     "traceback": [
      "\u001b[0;31m---------------------------------------------------------------------------\u001b[0m",
      "\u001b[0;31mKeyboardInterrupt\u001b[0m                         Traceback (most recent call last)",
      "\u001b[1;32m/data/engs-oxfair3/bras5206/noisy-ZSC/tests/heuristic_learner_values/heuristic_value.ipynb Cell 3\u001b[0m in \u001b[0;36m<cell line: 7>\u001b[0;34m()\u001b[0m\n\u001b[1;32m     <a href='vscode-notebook-cell://ssh-remote%2Barc-c304/data/engs-oxfair3/bras5206/noisy-ZSC/tests/heuristic_learner_values/heuristic_value.ipynb#W2sdnNjb2RlLXJlbW90ZQ%3D%3D?line=9'>10</a>\u001b[0m \u001b[39mfor\u001b[39;00m sigma1 \u001b[39min\u001b[39;00m sigma1_list:\n\u001b[1;32m     <a href='vscode-notebook-cell://ssh-remote%2Barc-c304/data/engs-oxfair3/bras5206/noisy-ZSC/tests/heuristic_learner_values/heuristic_value.ipynb#W2sdnNjb2RlLXJlbW90ZQ%3D%3D?line=10'>11</a>\u001b[0m     \u001b[39mfor\u001b[39;00m sigma2 \u001b[39min\u001b[39;00m sigma2_list:\n\u001b[0;32m---> <a href='vscode-notebook-cell://ssh-remote%2Barc-c304/data/engs-oxfair3/bras5206/noisy-ZSC/tests/heuristic_learner_values/heuristic_value.ipynb#W2sdnNjb2RlLXJlbW90ZQ%3D%3D?line=11'>12</a>\u001b[0m         value \u001b[39m=\u001b[39m argmax_val(sigma, sigma1, sigma2, bail_payoff \u001b[39m=\u001b[39;49m bail)\n\u001b[1;32m     <a href='vscode-notebook-cell://ssh-remote%2Barc-c304/data/engs-oxfair3/bras5206/noisy-ZSC/tests/heuristic_learner_values/heuristic_value.ipynb#W2sdnNjb2RlLXJlbW90ZQ%3D%3D?line=12'>13</a>\u001b[0m         entry \u001b[39m=\u001b[39m pd\u001b[39m.\u001b[39mDataFrame\u001b[39m.\u001b[39mfrom_dict({\u001b[39m'\u001b[39m\u001b[39msigma1\u001b[39m\u001b[39m'\u001b[39m: [sigma1], \n\u001b[1;32m     <a href='vscode-notebook-cell://ssh-remote%2Barc-c304/data/engs-oxfair3/bras5206/noisy-ZSC/tests/heuristic_learner_values/heuristic_value.ipynb#W2sdnNjb2RlLXJlbW90ZQ%3D%3D?line=13'>14</a>\u001b[0m         \u001b[39m'\u001b[39m\u001b[39msigma2\u001b[39m\u001b[39m'\u001b[39m: [sigma2], \u001b[39m'\u001b[39m\u001b[39mvalue\u001b[39m\u001b[39m'\u001b[39m:[value]})        \n\u001b[1;32m     <a href='vscode-notebook-cell://ssh-remote%2Barc-c304/data/engs-oxfair3/bras5206/noisy-ZSC/tests/heuristic_learner_values/heuristic_value.ipynb#W2sdnNjb2RlLXJlbW90ZQ%3D%3D?line=14'>15</a>\u001b[0m         df \u001b[39m=\u001b[39m pd\u001b[39m.\u001b[39mconcat([df, entry], ignore_index \u001b[39m=\u001b[39m \u001b[39mTrue\u001b[39;00m)\n",
      "\u001b[1;32m/data/engs-oxfair3/bras5206/noisy-ZSC/tests/heuristic_learner_values/heuristic_value.ipynb Cell 3\u001b[0m in \u001b[0;36margmax_val\u001b[0;34m(sigma, sigma1, sigma2, bail_payoff, runs)\u001b[0m\n\u001b[1;32m     <a href='vscode-notebook-cell://ssh-remote%2Barc-c304/data/engs-oxfair3/bras5206/noisy-ZSC/tests/heuristic_learner_values/heuristic_value.ipynb#W2sdnNjb2RlLXJlbW90ZQ%3D%3D?line=21'>22</a>\u001b[0m val_list \u001b[39m=\u001b[39m []\n\u001b[1;32m     <a href='vscode-notebook-cell://ssh-remote%2Barc-c304/data/engs-oxfair3/bras5206/noisy-ZSC/tests/heuristic_learner_values/heuristic_value.ipynb#W2sdnNjb2RlLXJlbW90ZQ%3D%3D?line=23'>24</a>\u001b[0m \u001b[39mfor\u001b[39;00m i \u001b[39min\u001b[39;00m \u001b[39mrange\u001b[39m(runs):\n\u001b[1;32m     <a href='vscode-notebook-cell://ssh-remote%2Barc-c304/data/engs-oxfair3/bras5206/noisy-ZSC/tests/heuristic_learner_values/heuristic_value.ipynb#W2sdnNjb2RlLXJlbW90ZQ%3D%3D?line=24'>25</a>\u001b[0m     \u001b[39m# init a run\u001b[39;00m\n\u001b[0;32m---> <a href='vscode-notebook-cell://ssh-remote%2Barc-c304/data/engs-oxfair3/bras5206/noisy-ZSC/tests/heuristic_learner_values/heuristic_value.ipynb#W2sdnNjb2RlLXJlbW90ZQ%3D%3D?line=25'>26</a>\u001b[0m     env \u001b[39m=\u001b[39m NoisyBailLeverGame(mean_payoffs, bail_payoff, sigma, sigma1, sigma2, episode_length\u001b[39m=\u001b[39;49m\u001b[39m1\u001b[39;49m)\n\u001b[1;32m     <a href='vscode-notebook-cell://ssh-remote%2Barc-c304/data/engs-oxfair3/bras5206/noisy-ZSC/tests/heuristic_learner_values/heuristic_value.ipynb#W2sdnNjb2RlLXJlbW90ZQ%3D%3D?line=26'>27</a>\u001b[0m     score \u001b[39m=\u001b[39m argmax_score(env\u001b[39m.\u001b[39mpayoffs1, env\u001b[39m.\u001b[39mpayoffs2, env\u001b[39m.\u001b[39mtrue_payoffs)\n\u001b[1;32m     <a href='vscode-notebook-cell://ssh-remote%2Barc-c304/data/engs-oxfair3/bras5206/noisy-ZSC/tests/heuristic_learner_values/heuristic_value.ipynb#W2sdnNjb2RlLXJlbW90ZQ%3D%3D?line=27'>28</a>\u001b[0m     val_list\u001b[39m.\u001b[39mappend(score) \n",
      "File \u001b[0;32m/data/engs-oxfair3/bras5206/noisy-ZSC/noisy_zsc/game/noisy_bail_lever_game.py:22\u001b[0m, in \u001b[0;36mNoisyBailLeverGame.__init__\u001b[0;34m(self, mean_payoffs, bail_payoff, sigma, sigma1, sigma2, episode_length)\u001b[0m\n\u001b[1;32m     19\u001b[0m \u001b[39mself\u001b[39m\u001b[39m.\u001b[39mpayoffs1 \u001b[39m=\u001b[39m \u001b[39mNone\u001b[39;00m\n\u001b[1;32m     20\u001b[0m \u001b[39mself\u001b[39m\u001b[39m.\u001b[39mpayoffs2 \u001b[39m=\u001b[39m \u001b[39mNone\u001b[39;00m\n\u001b[0;32m---> 22\u001b[0m \u001b[39mself\u001b[39;49m\u001b[39m.\u001b[39;49mreset()\n",
      "File \u001b[0;32m/data/engs-oxfair3/bras5206/noisy-ZSC/noisy_zsc/game/noisy_bail_lever_game.py:30\u001b[0m, in \u001b[0;36mNoisyBailLeverGame.reset\u001b[0;34m(self)\u001b[0m\n\u001b[1;32m     27\u001b[0m \u001b[39mself\u001b[39m\u001b[39m.\u001b[39mtrue_payoffs \u001b[39m=\u001b[39m [normalvariate(payoff, \u001b[39mself\u001b[39m\u001b[39m.\u001b[39msigma) \u001b[39mfor\u001b[39;00m payoff \u001b[39min\u001b[39;00m \u001b[39mself\u001b[39m\u001b[39m.\u001b[39mmean_payoffs]\n\u001b[1;32m     29\u001b[0m \u001b[39m# E_A (payoff1) and E_B (payoff2) are noisy versions of true_lever_game (adding noise to reward)\u001b[39;00m\n\u001b[0;32m---> 30\u001b[0m \u001b[39mself\u001b[39m\u001b[39m.\u001b[39mpayoffs1 \u001b[39m=\u001b[39m \u001b[39mtuple\u001b[39m([normalvariate(payoff, \u001b[39mself\u001b[39m\u001b[39m.\u001b[39msigma1) \u001b[39mfor\u001b[39;00m payoff \u001b[39min\u001b[39;00m \u001b[39mself\u001b[39m\u001b[39m.\u001b[39mtrue_payoffs]\u001b[39m+\u001b[39m[\u001b[39mself\u001b[39m\u001b[39m.\u001b[39mbail_payoff])\n\u001b[1;32m     31\u001b[0m \u001b[39mself\u001b[39m\u001b[39m.\u001b[39mpayoffs2 \u001b[39m=\u001b[39m \u001b[39mtuple\u001b[39m([normalvariate(payoff, \u001b[39mself\u001b[39m\u001b[39m.\u001b[39msigma2) \u001b[39mfor\u001b[39;00m payoff \u001b[39min\u001b[39;00m \u001b[39mself\u001b[39m\u001b[39m.\u001b[39mtrue_payoffs]\u001b[39m+\u001b[39m[\u001b[39mself\u001b[39m\u001b[39m.\u001b[39mbail_payoff])\n\u001b[1;32m     33\u001b[0m \u001b[39mself\u001b[39m\u001b[39m.\u001b[39mtrue_payoffs \u001b[39m=\u001b[39m \u001b[39mself\u001b[39m\u001b[39m.\u001b[39mtrue_payoffs \u001b[39m+\u001b[39m [\u001b[39mself\u001b[39m\u001b[39m.\u001b[39mbail_payoff]\n",
      "File \u001b[0;32m/data/engs-oxfair3/bras5206/noisy-ZSC/noisy_zsc/game/noisy_bail_lever_game.py:30\u001b[0m, in \u001b[0;36m<listcomp>\u001b[0;34m(.0)\u001b[0m\n\u001b[1;32m     27\u001b[0m \u001b[39mself\u001b[39m\u001b[39m.\u001b[39mtrue_payoffs \u001b[39m=\u001b[39m [normalvariate(payoff, \u001b[39mself\u001b[39m\u001b[39m.\u001b[39msigma) \u001b[39mfor\u001b[39;00m payoff \u001b[39min\u001b[39;00m \u001b[39mself\u001b[39m\u001b[39m.\u001b[39mmean_payoffs]\n\u001b[1;32m     29\u001b[0m \u001b[39m# E_A (payoff1) and E_B (payoff2) are noisy versions of true_lever_game (adding noise to reward)\u001b[39;00m\n\u001b[0;32m---> 30\u001b[0m \u001b[39mself\u001b[39m\u001b[39m.\u001b[39mpayoffs1 \u001b[39m=\u001b[39m \u001b[39mtuple\u001b[39m([normalvariate(payoff, \u001b[39mself\u001b[39;49m\u001b[39m.\u001b[39;49msigma1) \u001b[39mfor\u001b[39;00m payoff \u001b[39min\u001b[39;00m \u001b[39mself\u001b[39m\u001b[39m.\u001b[39mtrue_payoffs]\u001b[39m+\u001b[39m[\u001b[39mself\u001b[39m\u001b[39m.\u001b[39mbail_payoff])\n\u001b[1;32m     31\u001b[0m \u001b[39mself\u001b[39m\u001b[39m.\u001b[39mpayoffs2 \u001b[39m=\u001b[39m \u001b[39mtuple\u001b[39m([normalvariate(payoff, \u001b[39mself\u001b[39m\u001b[39m.\u001b[39msigma2) \u001b[39mfor\u001b[39;00m payoff \u001b[39min\u001b[39;00m \u001b[39mself\u001b[39m\u001b[39m.\u001b[39mtrue_payoffs]\u001b[39m+\u001b[39m[\u001b[39mself\u001b[39m\u001b[39m.\u001b[39mbail_payoff])\n\u001b[1;32m     33\u001b[0m \u001b[39mself\u001b[39m\u001b[39m.\u001b[39mtrue_payoffs \u001b[39m=\u001b[39m \u001b[39mself\u001b[39m\u001b[39m.\u001b[39mtrue_payoffs \u001b[39m+\u001b[39m [\u001b[39mself\u001b[39m\u001b[39m.\u001b[39mbail_payoff]\n",
      "File \u001b[0;32m~/.conda/envs/pytorch/lib/python3.9/random.py:549\u001b[0m, in \u001b[0;36mRandom.normalvariate\u001b[0;34m(self, mu, sigma)\u001b[0m\n\u001b[1;32m    547\u001b[0m \u001b[39mwhile\u001b[39;00m \u001b[39mTrue\u001b[39;00m:\n\u001b[1;32m    548\u001b[0m     u1 \u001b[39m=\u001b[39m random()\n\u001b[0;32m--> 549\u001b[0m     u2 \u001b[39m=\u001b[39m \u001b[39m1.0\u001b[39;49m \u001b[39m-\u001b[39;49m random()\n\u001b[1;32m    550\u001b[0m     z \u001b[39m=\u001b[39m NV_MAGICCONST \u001b[39m*\u001b[39m (u1 \u001b[39m-\u001b[39m \u001b[39m0.5\u001b[39m) \u001b[39m/\u001b[39m u2\n\u001b[1;32m    551\u001b[0m     zz \u001b[39m=\u001b[39m z \u001b[39m*\u001b[39m z \u001b[39m/\u001b[39m \u001b[39m4.0\u001b[39m\n",
      "\u001b[0;31mKeyboardInterrupt\u001b[0m: "
     ]
    }
   ],
   "source": [
    "# fix sigma, create dataframe with columns sigma1, sigma2, value\n",
    "sigma_list = [0, 1, 2,3,4,5,6,7, 8, 9, 10]\n",
    "bail_list = [3,4,5,6,7,8]\n",
    "sigma1_list = np.linspace(0, 10, 11)\n",
    "sigma2_list = np.linspace(0, 10, 11)\n",
    "\n",
    "for sigma in sigma_list:\n",
    "    for bail in bail_list:\n",
    "        df = pd.DataFrame(columns = ['sigma1', 'sigma2', 'value'])\n",
    "        for sigma1 in sigma1_list:\n",
    "            for sigma2 in sigma2_list:\n",
    "                value = argmax_val(sigma, sigma1, sigma2, bail_payoff = bail)\n",
    "                entry = pd.DataFrame.from_dict({'sigma1': [sigma1], \n",
    "                'sigma2': [sigma2], 'value':[value]})        \n",
    "                df = pd.concat([df, entry], ignore_index = True)\n",
    "\n",
    "        fig, ax = plt.subplots()\n",
    "        pivot = df.pivot(index='sigma1', columns='sigma2', values='value')\n",
    "        ax = sns.heatmap(pivot, annot = True, fmt='.1f', cmap='viridis')\n",
    "        ax.invert_yaxis()\n",
    "        plt.title(\"argmax learner value; bail=\"+str(bail)+\" ; $\\sigma$=\"+str(sigma))\n",
    "        plt.xlabel(\"$\\sigma_A$\")\n",
    "        plt.ylabel(\"$\\sigma_B$\")\n",
    "        plt.savefig('heatmap/argmax_'+ str(sigma) + '_' + str(bail) +'.png')"
   ]
  },
  {
   "cell_type": "code",
   "execution_count": null,
   "metadata": {},
   "outputs": [],
   "source": [
    "sigma12_list = np.linspace(0, 10, 100)\n",
    "\n",
    "for sigma12 in sigma12_list:\n",
    "    for bail in bail_list:\n",
    "        val = argmax_val(sigma, sigma12, sigma12, bail_payoff = bail)"
   ]
  },
  {
   "cell_type": "code",
   "execution_count": 3,
   "metadata": {},
   "outputs": [
    {
     "ename": "NameError",
     "evalue": "name 'argmax_val' is not defined",
     "output_type": "error",
     "traceback": [
      "\u001b[0;31m---------------------------------------------------------------------------\u001b[0m",
      "\u001b[0;31mNameError\u001b[0m                                 Traceback (most recent call last)",
      "\u001b[1;32m/data/engs-oxfair3/bras5206/noisy-ZSC/tests/heuristic_learner_values/heuristic_value.ipynb Cell 5\u001b[0m in \u001b[0;36m<cell line: 36>\u001b[0;34m()\u001b[0m\n\u001b[1;32m     <a href='vscode-notebook-cell://ssh-remote%2Barc-c304/data/engs-oxfair3/bras5206/noisy-ZSC/tests/heuristic_learner_values/heuristic_value.ipynb#W5sdnNjb2RlLXJlbW90ZQ%3D%3D?line=38'>39</a>\u001b[0m \u001b[39mfor\u001b[39;00m sigma1 \u001b[39min\u001b[39;00m sigma1_list:\n\u001b[1;32m     <a href='vscode-notebook-cell://ssh-remote%2Barc-c304/data/engs-oxfair3/bras5206/noisy-ZSC/tests/heuristic_learner_values/heuristic_value.ipynb#W5sdnNjb2RlLXJlbW90ZQ%3D%3D?line=39'>40</a>\u001b[0m     \u001b[39mfor\u001b[39;00m sigma2 \u001b[39min\u001b[39;00m sigma2_list:\n\u001b[0;32m---> <a href='vscode-notebook-cell://ssh-remote%2Barc-c304/data/engs-oxfair3/bras5206/noisy-ZSC/tests/heuristic_learner_values/heuristic_value.ipynb#W5sdnNjb2RlLXJlbW90ZQ%3D%3D?line=40'>41</a>\u001b[0m         value \u001b[39m=\u001b[39m argmax_val(sigma, sigma1, sigma2, bail_payoff \u001b[39m=\u001b[39m bail)\n\u001b[1;32m     <a href='vscode-notebook-cell://ssh-remote%2Barc-c304/data/engs-oxfair3/bras5206/noisy-ZSC/tests/heuristic_learner_values/heuristic_value.ipynb#W5sdnNjb2RlLXJlbW90ZQ%3D%3D?line=41'>42</a>\u001b[0m         entry \u001b[39m=\u001b[39m pd\u001b[39m.\u001b[39mDataFrame\u001b[39m.\u001b[39mfrom_dict({\u001b[39m'\u001b[39m\u001b[39msigma1\u001b[39m\u001b[39m'\u001b[39m: [sigma1], \n\u001b[1;32m     <a href='vscode-notebook-cell://ssh-remote%2Barc-c304/data/engs-oxfair3/bras5206/noisy-ZSC/tests/heuristic_learner_values/heuristic_value.ipynb#W5sdnNjb2RlLXJlbW90ZQ%3D%3D?line=42'>43</a>\u001b[0m         \u001b[39m'\u001b[39m\u001b[39msigma2\u001b[39m\u001b[39m'\u001b[39m: [sigma2], \u001b[39m'\u001b[39m\u001b[39mvalue\u001b[39m\u001b[39m'\u001b[39m:[value]})        \n\u001b[1;32m     <a href='vscode-notebook-cell://ssh-remote%2Barc-c304/data/engs-oxfair3/bras5206/noisy-ZSC/tests/heuristic_learner_values/heuristic_value.ipynb#W5sdnNjb2RlLXJlbW90ZQ%3D%3D?line=43'>44</a>\u001b[0m         df \u001b[39m=\u001b[39m pd\u001b[39m.\u001b[39mconcat([df, entry], ignore_index \u001b[39m=\u001b[39m \u001b[39mTrue\u001b[39;00m)\n",
      "\u001b[0;31mNameError\u001b[0m: name 'argmax_val' is not defined"
     ]
    }
   ],
   "source": [
    "mean_payoffs = [5., 5., 5.]\n",
    "bail_payoff = 5 # this can change\n",
    "\n",
    "def argmax_of_2_score(payoffs1, payoffs2, true_payoff):\n",
    "    \n",
    "    payoffs1 = list(payoffs1)\n",
    "    payoffs2 = list(payoffs2)\n",
    "\n",
    "    action1 = np.argmax(payoffs1[1:])\n",
    "    action2 = np.argmax(payoffs2[1:])\n",
    "    if action1 == action2:\n",
    "        return true_payoff[action1+1]\n",
    "    else:\n",
    "        return 0\n",
    "\n",
    "\n",
    "\n",
    "def argmax_of_2_val(sigma, sigma1, sigma2, bail_payoff = bail_payoff, runs = 10000):\n",
    "    val_list = []\n",
    "\n",
    "    for i in range(runs):\n",
    "        # init a run\n",
    "        env = NoisyBailLeverGame(mean_payoffs, bail_payoff, sigma, sigma1, sigma2, episode_length=1)\n",
    "        score = argmax_of_2_score(env.payoffs1, env.payoffs2, env.true_payoffs)\n",
    "        val_list.append(score) \n",
    "    \n",
    "    val = np.mean(val_list)\n",
    "    return val\n",
    "\n",
    "# fix sigma, create dataframe with columns sigma1, sigma2, value\n",
    "sigma_list = [3, 4,5]\n",
    "bail_list = [5]\n",
    "sigma1_list = np.linspace(0, 10, 11)\n",
    "sigma2_list = np.linspace(0, 10, 11)\n",
    "\n",
    "for sigma in sigma_list:\n",
    "    for bail in bail_list:\n",
    "        df = pd.DataFrame(columns = ['sigma1', 'sigma2', 'value'])\n",
    "        for sigma1 in sigma1_list:\n",
    "            for sigma2 in sigma2_list:\n",
    "                value = argmax_of_2_val(sigma, sigma1, sigma2, bail_payoff = bail)\n",
    "                entry = pd.DataFrame.from_dict({'sigma1': [sigma1], \n",
    "                'sigma2': [sigma2], 'value':[value]})        \n",
    "                df = pd.concat([df, entry], ignore_index = True)\n",
    "\n",
    "        fig, ax = plt.subplots()\n",
    "        pivot = df.pivot(index='sigma1', columns='sigma2', values='value')\n",
    "        ax = sns.heatmap(pivot, annot = True, fmt='.1f', cmap='viridis')\n",
    "        ax.invert_yaxis()\n",
    "        plt.title(\"argmax of 2 learner value; bail=\"+str(bail)+\" ; $\\sigma$=\"+str(sigma))\n",
    "        plt.xlabel(\"$\\sigma_A$\")\n",
    "        plt.ylabel(\"$\\sigma_B$\")\n",
    "        plt.savefig('heatmap2/argmax_'+ str(sigma) + '_' + str(bail) +'.png')"
   ]
  },
  {
   "cell_type": "markdown",
   "metadata": {},
   "source": []
  }
 ],
 "metadata": {
  "kernelspec": {
   "display_name": "Python 3.9.12 64-bit ('pytorch')",
   "language": "python",
   "name": "python3"
  },
  "language_info": {
   "codemirror_mode": {
    "name": "ipython",
    "version": 3
   },
   "file_extension": ".py",
   "mimetype": "text/x-python",
   "name": "python",
   "nbconvert_exporter": "python",
   "pygments_lexer": "ipython3",
   "version": "3.9.12"
  },
  "orig_nbformat": 4,
  "vscode": {
   "interpreter": {
    "hash": "ab8ea313ea6cd614e78f6df06ad98a927172d883bcea0e31b68f950594c53669"
   }
  }
 },
 "nbformat": 4,
 "nbformat_minor": 2
}
